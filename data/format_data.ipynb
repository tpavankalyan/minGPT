{
 "cells": [
  {
   "cell_type": "code",
   "execution_count": 2,
   "id": "06e18f53",
   "metadata": {},
   "outputs": [],
   "source": [
    "from tqdm import tqdm\n",
    "import pandas as pd\n",
    "import json"
   ]
  },
  {
   "cell_type": "code",
   "execution_count": 3,
   "id": "d580c2a9",
   "metadata": {},
   "outputs": [
    {
     "name": "stdout",
     "output_type": "stream",
     "text": [
      "1111110\n"
     ]
    }
   ],
   "source": [
    "with open(\"/datadrive/pavan/repos/synthetic_reasoning/data/all_pairs.jsonl\") as f:\n",
    "    all_pairs = json.load(f)\n",
    "print(len(all_pairs))"
   ]
  },
  {
   "cell_type": "code",
   "execution_count": 17,
   "id": "f8cdc9f6",
   "metadata": {},
   "outputs": [
    {
     "name": "stderr",
     "output_type": "stream",
     "text": [
      "100%|██████████| 1111110/1111110 [01:10<00:00, 15823.03it/s]\n"
     ]
    }
   ],
   "source": [
    "question = []\n",
    "answer = []\n",
    "solution = []\n",
    "algorithm = []\n",
    "length = []\n",
    "text = []\n",
    "c = 0\n",
    "for i in tqdm(range(len(all_pairs))):\n",
    "    for k in all_pairs[i]:\n",
    "        if k.endswith('_sort'):\n",
    "            q = ' '.join(map(str, all_pairs[i]['unsorted']))\n",
    "            a = ' '.join(map(str, all_pairs[i]['sorted']))\n",
    "            s = '<|T|> '+' <|T|> '.join([' '.join(map(str, step)) for step in all_pairs[i][k]])\n",
    "            algo = k.split('_')[0]\n",
    "            question.append(q)\n",
    "            answer.append(a)\n",
    "            solution.append(s)\n",
    "            algorithm.append(algo)\n",
    "            length.append(len(all_pairs[i]['sorted']))\n",
    "            text.append(\"<|Q|> \"+q+\" <|S|> \"+algo+\" \"+s+\" <|A|> \"+a+\" <|E|>\")"
   ]
  },
  {
   "cell_type": "code",
   "execution_count": 20,
   "id": "b34f19f5",
   "metadata": {},
   "outputs": [
    {
     "data": {
      "text/html": [
       "<div>\n",
       "<style scoped>\n",
       "    .dataframe tbody tr th:only-of-type {\n",
       "        vertical-align: middle;\n",
       "    }\n",
       "\n",
       "    .dataframe tbody tr th {\n",
       "        vertical-align: top;\n",
       "    }\n",
       "\n",
       "    .dataframe thead th {\n",
       "        text-align: right;\n",
       "    }\n",
       "</style>\n",
       "<table border=\"1\" class=\"dataframe\">\n",
       "  <thead>\n",
       "    <tr style=\"text-align: right;\">\n",
       "      <th></th>\n",
       "      <th>question</th>\n",
       "      <th>answer</th>\n",
       "      <th>solution</th>\n",
       "      <th>algorithm</th>\n",
       "      <th>length</th>\n",
       "      <th>text</th>\n",
       "    </tr>\n",
       "  </thead>\n",
       "  <tbody>\n",
       "    <tr>\n",
       "      <th>0</th>\n",
       "      <td>0</td>\n",
       "      <td>0</td>\n",
       "      <td>&lt;|T|&gt; 0</td>\n",
       "      <td>bubble</td>\n",
       "      <td>1</td>\n",
       "      <td>&lt;|Q|&gt; 0 &lt;|S|&gt; bubble &lt;|T|&gt; 0 &lt;|A|&gt; 0 &lt;|E|&gt;</td>\n",
       "    </tr>\n",
       "    <tr>\n",
       "      <th>1</th>\n",
       "      <td>0</td>\n",
       "      <td>0</td>\n",
       "      <td>&lt;|T|&gt; 0</td>\n",
       "      <td>selection</td>\n",
       "      <td>1</td>\n",
       "      <td>&lt;|Q|&gt; 0 &lt;|S|&gt; selection &lt;|T|&gt; 0 &lt;|A|&gt; 0 &lt;|E|&gt;</td>\n",
       "    </tr>\n",
       "    <tr>\n",
       "      <th>2</th>\n",
       "      <td>0</td>\n",
       "      <td>0</td>\n",
       "      <td>&lt;|T|&gt; 0</td>\n",
       "      <td>insertion</td>\n",
       "      <td>1</td>\n",
       "      <td>&lt;|Q|&gt; 0 &lt;|S|&gt; insertion &lt;|T|&gt; 0 &lt;|A|&gt; 0 &lt;|E|&gt;</td>\n",
       "    </tr>\n",
       "    <tr>\n",
       "      <th>3</th>\n",
       "      <td>0</td>\n",
       "      <td>0</td>\n",
       "      <td>&lt;|T|&gt; 0</td>\n",
       "      <td>quick</td>\n",
       "      <td>1</td>\n",
       "      <td>&lt;|Q|&gt; 0 &lt;|S|&gt; quick &lt;|T|&gt; 0 &lt;|A|&gt; 0 &lt;|E|&gt;</td>\n",
       "    </tr>\n",
       "    <tr>\n",
       "      <th>4</th>\n",
       "      <td>0</td>\n",
       "      <td>0</td>\n",
       "      <td>&lt;|T|&gt; 0</td>\n",
       "      <td>heap</td>\n",
       "      <td>1</td>\n",
       "      <td>&lt;|Q|&gt; 0 &lt;|S|&gt; heap &lt;|T|&gt; 0 &lt;|A|&gt; 0 &lt;|E|&gt;</td>\n",
       "    </tr>\n",
       "  </tbody>\n",
       "</table>\n",
       "</div>"
      ],
      "text/plain": [
       "  question answer solution  algorithm  length  \\\n",
       "0        0      0  <|T|> 0     bubble       1   \n",
       "1        0      0  <|T|> 0  selection       1   \n",
       "2        0      0  <|T|> 0  insertion       1   \n",
       "3        0      0  <|T|> 0      quick       1   \n",
       "4        0      0  <|T|> 0       heap       1   \n",
       "\n",
       "                                            text  \n",
       "0     <|Q|> 0 <|S|> bubble <|T|> 0 <|A|> 0 <|E|>  \n",
       "1  <|Q|> 0 <|S|> selection <|T|> 0 <|A|> 0 <|E|>  \n",
       "2  <|Q|> 0 <|S|> insertion <|T|> 0 <|A|> 0 <|E|>  \n",
       "3      <|Q|> 0 <|S|> quick <|T|> 0 <|A|> 0 <|E|>  \n",
       "4       <|Q|> 0 <|S|> heap <|T|> 0 <|A|> 0 <|E|>  "
      ]
     },
     "execution_count": 20,
     "metadata": {},
     "output_type": "execute_result"
    }
   ],
   "source": [
    "df = pd.DataFrame()\n",
    "df['question'] = question\n",
    "df['answer'] = answer\n",
    "df['solution'] = solution\n",
    "df['algorithm'] = algorithm\n",
    "df['length'] = length\n",
    "df['text'] = text\n",
    "df.head()"
   ]
  },
  {
   "cell_type": "code",
   "execution_count": 23,
   "id": "0550eb1d",
   "metadata": {},
   "outputs": [
    {
     "data": {
      "text/plain": [
       "length\n",
       "1         80\n",
       "2        800\n",
       "3       8000\n",
       "4      80000\n",
       "5     800000\n",
       "6    8000000\n",
       "Name: count, dtype: int64"
      ]
     },
     "execution_count": 23,
     "metadata": {},
     "output_type": "execute_result"
    }
   ],
   "source": [
    "df['length'].value_counts().sort_index()"
   ]
  },
  {
   "cell_type": "code",
   "execution_count": null,
   "id": "4794c5d3",
   "metadata": {},
   "outputs": [],
   "source": []
  },
  {
   "cell_type": "code",
   "execution_count": 4,
   "id": "142bb802",
   "metadata": {},
   "outputs": [
    {
     "name": "stderr",
     "output_type": "stream",
     "text": [
      "100%|██████████| 6/6 [01:40<00:00, 16.73s/it]\n"
     ]
    }
   ],
   "source": [
    "max_len = 6\n",
    "algos = [\"greedy\", \"dp\", \"recursive\", \"brute_force\"]\n",
    "\n",
    "base_path = \"/datadrive/pavan/az_storage/repos/synthetic_reasoning/data/solution_paths/pairs_len\"\n",
    "\n",
    "data_dict = {}\n",
    "\n",
    "for i in tqdm(range(1, max_len + 1)):\n",
    "    data_dict[i] = {}\n",
    "    for algo in algos:\n",
    "        data_dict[i][algo] = []\n",
    "        path = f\"{base_path}{i}_{algo}.pkl\"\n",
    "        with open(path, \"rb\") as f:\n",
    "            data = pickle.load(f)\n",
    "            data_dict[i][algo] = data"
   ]
  },
  {
   "cell_type": "code",
   "execution_count": 7,
   "id": "9f44f046",
   "metadata": {},
   "outputs": [
    {
     "name": "stdout",
     "output_type": "stream",
     "text": [
      "greedy :  1.0, dp :  1.0, recursive :  1.0, brute_force :  2.0, \n",
      "greedy :  1.45, dp :  2.0, recursive :  2.0, brute_force :  2.45, \n",
      "greedy :  2.065, dp :  3.0, recursive :  3.0, brute_force :  4.25, \n",
      "greedy :  2.7625, dp :  3.0, recursive :  4.0, brute_force :  12.3005, \n",
      "greedy :  3.50917, dp :  4.0, recursive :  5.0, brute_force :  54.758, \n",
      "greedy :  4.288345, "
     ]
    },
    {
     "name": "stdout",
     "output_type": "stream",
     "text": [
      "dp :  4.0, recursive :  6.0, brute_force :  316.302245, \n"
     ]
    }
   ],
   "source": [
    "for l in data_dict:\n",
    "    for algo in data_dict[l]:\n",
    "        # Get the lengths of each inner list\n",
    "        lengths = [len(inner_list) for inner_list in data_dict[l][algo]]\n",
    "        # Calculate the mean length\n",
    "        mean_length = sum(lengths) / len(lengths) if lengths else 0\n",
    "        print(algo, \": \", mean_length, end=\", \")\n",
    "    print()\n"
   ]
  },
  {
   "cell_type": "code",
   "execution_count": 118,
   "id": "86ed768b",
   "metadata": {},
   "outputs": [],
   "source": [
    "data = [\n",
    "    (l, algo, inner_list[0], inner_list[-1], inner_list[1:-1] if len(inner_list) > 2 else [inner_list[0]])\n",
    "    for l in data_dict\n",
    "    for algo in data_dict[l]\n",
    "    for inner_list in data_dict[l][algo]\n",
    "]"
   ]
  },
  {
   "cell_type": "code",
   "execution_count": 119,
   "id": "cbe7c2b0",
   "metadata": {},
   "outputs": [],
   "source": [
    "df = pd.DataFrame(data, columns=[\"length\", \"algo\", \"question\", \"answer\", \"solution\"])"
   ]
  },
  {
   "cell_type": "code",
   "execution_count": 120,
   "id": "b83b3a0a",
   "metadata": {},
   "outputs": [
    {
     "data": {
      "text/plain": [
       "length\n",
       "1         40\n",
       "2        400\n",
       "3       4000\n",
       "4      40000\n",
       "5     400000\n",
       "6    4000000\n",
       "Name: count, dtype: int64"
      ]
     },
     "execution_count": 120,
     "metadata": {},
     "output_type": "execute_result"
    }
   ],
   "source": [
    "df['length'].value_counts().sort_index()"
   ]
  },
  {
   "cell_type": "code",
   "execution_count": 26,
   "id": "a6f74694",
   "metadata": {},
   "outputs": [
    {
     "name": "stdout",
     "output_type": "stream",
     "text": [
      "split\n",
      "pretrain       116880\n",
      "rl_finetune    100000\n",
      "val              6000\n",
      "test             6000\n",
      "Name: count, dtype: int64\n",
      "split        length\n",
      "pretrain     1             80\n",
      "             2            800\n",
      "             3           8000\n",
      "             4          35981\n",
      "             5          36025\n",
      "             6          35994\n",
      "rl_finetune  6         100000\n",
      "test         4           2060\n",
      "             5           1949\n",
      "             6           1991\n",
      "val          4           1959\n",
      "             5           2026\n",
      "             6           2015\n",
      "dtype: int64\n"
     ]
    }
   ],
   "source": [
    "# Shuffle and filter by length\n",
    "df4 = df[df['length'] == 4].sample(frac=1, random_state=42)\n",
    "df5 = df[df['length'] == 5].sample(frac=1, random_state=42)\n",
    "df6 = df[df['length'] == 6].sample(frac=1, random_state=42)\n",
    "\n",
    "# --------- Phase 1: Supervised Pretraining ---------\n",
    "\n",
    "# Use equal number from each length (up to 40k)\n",
    "n_per_length = min(len(df4), len(df5), len(df6), 40000)\n",
    "\n",
    "# Sample equal data\n",
    "df4_ = df4.iloc[:n_per_length]\n",
    "df5_ = df5.iloc[:n_per_length]\n",
    "df6_ = df6.iloc[:n_per_length]\n",
    "\n",
    "# Combine and shuffle\n",
    "pretrain_base = pd.concat([df4_, df5_, df6_]).sample(frac=1, random_state=1).reset_index(drop=True)\n",
    "\n",
    "# Add the lengths 1, 2, 3 to pretrain\n",
    "df123 = df[df['length'].isin([1, 2, 3])].copy()\n",
    "df123[\"split\"] = \"pretrain\"\n",
    "\n",
    "# Split pretrain_base into train/val/test\n",
    "n_total = len(pretrain_base)\n",
    "n_train = int(0.9 * n_total)\n",
    "n_val = int(0.05 * n_total)\n",
    "n_test = n_total - (n_train + n_val)\n",
    "\n",
    "pretrain_df = pretrain_base.iloc[:n_train].copy()\n",
    "val_df = pretrain_base.iloc[n_train:n_train + n_val].copy()\n",
    "test_df = pretrain_base.iloc[n_train + n_val:].copy()\n",
    "\n",
    "pretrain_df[\"split\"] = \"pretrain\"\n",
    "val_df[\"split\"] = \"val\"\n",
    "test_df[\"split\"] = \"test\"\n",
    "\n",
    "# --------- Phase 2: RL Fine-tuning (length=6 only) ---------\n",
    "\n",
    "# Use remaining `length=6` data\n",
    "rl_data = df6.iloc[n_per_length:].copy()\n",
    "rl_finetune_df = rl_data.sample(n=100000, random_state=42).copy()\n",
    "rl_finetune_df[\"split\"] = \"rl_finetune\"\n",
    "\n",
    "# --------- Final Combined Dataset ---------\n",
    "\n",
    "final_df = pd.concat([pretrain_df, val_df, test_df, rl_finetune_df, df123]).reset_index(drop=True)\n",
    "\n",
    "# Sanity checks\n",
    "print(final_df[\"split\"].value_counts())\n",
    "print(final_df.groupby([\"split\", \"length\"]).size())\n",
    "\n",
    "# Optional: save\n",
    "# final_df.to_csv(\"two_phase_split_with_short.csv\", index=False)\n"
   ]
  },
  {
   "cell_type": "code",
   "execution_count": 27,
   "id": "83682f19",
   "metadata": {},
   "outputs": [
    {
     "data": {
      "text/html": [
       "<div>\n",
       "<style scoped>\n",
       "    .dataframe tbody tr th:only-of-type {\n",
       "        vertical-align: middle;\n",
       "    }\n",
       "\n",
       "    .dataframe tbody tr th {\n",
       "        vertical-align: top;\n",
       "    }\n",
       "\n",
       "    .dataframe thead th {\n",
       "        text-align: right;\n",
       "    }\n",
       "</style>\n",
       "<table border=\"1\" class=\"dataframe\">\n",
       "  <thead>\n",
       "    <tr style=\"text-align: right;\">\n",
       "      <th>algorithm</th>\n",
       "      <th>bubble</th>\n",
       "      <th>cycle</th>\n",
       "      <th>gnome</th>\n",
       "      <th>heap</th>\n",
       "      <th>insertion</th>\n",
       "      <th>quick</th>\n",
       "      <th>selection</th>\n",
       "      <th>shell</th>\n",
       "    </tr>\n",
       "    <tr>\n",
       "      <th>split</th>\n",
       "      <th></th>\n",
       "      <th></th>\n",
       "      <th></th>\n",
       "      <th></th>\n",
       "      <th></th>\n",
       "      <th></th>\n",
       "      <th></th>\n",
       "      <th></th>\n",
       "    </tr>\n",
       "  </thead>\n",
       "  <tbody>\n",
       "    <tr>\n",
       "      <th>pretrain</th>\n",
       "      <td>14674</td>\n",
       "      <td>14714</td>\n",
       "      <td>14676</td>\n",
       "      <td>14529</td>\n",
       "      <td>14662</td>\n",
       "      <td>14613</td>\n",
       "      <td>14421</td>\n",
       "      <td>14591</td>\n",
       "    </tr>\n",
       "    <tr>\n",
       "      <th>rl_finetune</th>\n",
       "      <td>12435</td>\n",
       "      <td>12480</td>\n",
       "      <td>12374</td>\n",
       "      <td>12724</td>\n",
       "      <td>12511</td>\n",
       "      <td>12394</td>\n",
       "      <td>12532</td>\n",
       "      <td>12550</td>\n",
       "    </tr>\n",
       "    <tr>\n",
       "      <th>test</th>\n",
       "      <td>752</td>\n",
       "      <td>786</td>\n",
       "      <td>767</td>\n",
       "      <td>735</td>\n",
       "      <td>726</td>\n",
       "      <td>734</td>\n",
       "      <td>742</td>\n",
       "      <td>758</td>\n",
       "    </tr>\n",
       "    <tr>\n",
       "      <th>val</th>\n",
       "      <td>753</td>\n",
       "      <td>720</td>\n",
       "      <td>794</td>\n",
       "      <td>785</td>\n",
       "      <td>746</td>\n",
       "      <td>727</td>\n",
       "      <td>707</td>\n",
       "      <td>768</td>\n",
       "    </tr>\n",
       "  </tbody>\n",
       "</table>\n",
       "</div>"
      ],
      "text/plain": [
       "algorithm    bubble  cycle  gnome   heap  insertion  quick  selection  shell\n",
       "split                                                                       \n",
       "pretrain      14674  14714  14676  14529      14662  14613      14421  14591\n",
       "rl_finetune   12435  12480  12374  12724      12511  12394      12532  12550\n",
       "test            752    786    767    735        726    734        742    758\n",
       "val             753    720    794    785        746    727        707    768"
      ]
     },
     "execution_count": 27,
     "metadata": {},
     "output_type": "execute_result"
    }
   ],
   "source": [
    "#group by algorithms and split\n",
    "final_df.groupby(['split', 'algorithm']).size().unstack()"
   ]
  },
  {
   "cell_type": "code",
   "execution_count": 28,
   "id": "d1c9c2ad",
   "metadata": {},
   "outputs": [
    {
     "data": {
      "text/html": [
       "<div>\n",
       "<style scoped>\n",
       "    .dataframe tbody tr th:only-of-type {\n",
       "        vertical-align: middle;\n",
       "    }\n",
       "\n",
       "    .dataframe tbody tr th {\n",
       "        vertical-align: top;\n",
       "    }\n",
       "\n",
       "    .dataframe thead th {\n",
       "        text-align: right;\n",
       "    }\n",
       "</style>\n",
       "<table border=\"1\" class=\"dataframe\">\n",
       "  <thead>\n",
       "    <tr style=\"text-align: right;\">\n",
       "      <th></th>\n",
       "      <th>question</th>\n",
       "      <th>answer</th>\n",
       "      <th>solution</th>\n",
       "      <th>algorithm</th>\n",
       "      <th>length</th>\n",
       "      <th>text</th>\n",
       "      <th>split</th>\n",
       "    </tr>\n",
       "  </thead>\n",
       "  <tbody>\n",
       "    <tr>\n",
       "      <th>0</th>\n",
       "      <td>3 0 7 6 6</td>\n",
       "      <td>0 3 6 6 7</td>\n",
       "      <td>&lt;|T|&gt; 3 0 7 6 6 &lt;|T|&gt; 3 0 6 6 7 &lt;|T|&gt; 0 3 6 6 7</td>\n",
       "      <td>shell</td>\n",
       "      <td>5</td>\n",
       "      <td>&lt;|Q|&gt; 3 0 7 6 6 &lt;|S|&gt; shell &lt;|T|&gt; 3 0 7 6 6 &lt;|...</td>\n",
       "      <td>pretrain</td>\n",
       "    </tr>\n",
       "    <tr>\n",
       "      <th>1</th>\n",
       "      <td>2 3 8 0</td>\n",
       "      <td>0 2 3 8</td>\n",
       "      <td>&lt;|T|&gt; 2 3 8 0 &lt;|T|&gt; 2 2 8 0 &lt;|T|&gt; 2 2 3 0 &lt;|T|...</td>\n",
       "      <td>cycle</td>\n",
       "      <td>4</td>\n",
       "      <td>&lt;|Q|&gt; 2 3 8 0 &lt;|S|&gt; cycle &lt;|T|&gt; 2 3 8 0 &lt;|T|&gt; ...</td>\n",
       "      <td>pretrain</td>\n",
       "    </tr>\n",
       "    <tr>\n",
       "      <th>2</th>\n",
       "      <td>2 5 7 7 1</td>\n",
       "      <td>1 2 5 7 7</td>\n",
       "      <td>&lt;|T|&gt; 2 5 7 7 1 &lt;|T|&gt; 1 2 5 7 7</td>\n",
       "      <td>insertion</td>\n",
       "      <td>5</td>\n",
       "      <td>&lt;|Q|&gt; 2 5 7 7 1 &lt;|S|&gt; insertion &lt;|T|&gt; 2 5 7 7 ...</td>\n",
       "      <td>pretrain</td>\n",
       "    </tr>\n",
       "    <tr>\n",
       "      <th>3</th>\n",
       "      <td>4 4 5 0</td>\n",
       "      <td>0 4 4 5</td>\n",
       "      <td>&lt;|T|&gt; 4 4 5 0 &lt;|T|&gt; 0 4 4 5</td>\n",
       "      <td>insertion</td>\n",
       "      <td>4</td>\n",
       "      <td>&lt;|Q|&gt; 4 4 5 0 &lt;|S|&gt; insertion &lt;|T|&gt; 4 4 5 0 &lt;|...</td>\n",
       "      <td>pretrain</td>\n",
       "    </tr>\n",
       "    <tr>\n",
       "      <th>4</th>\n",
       "      <td>4 4 7 0 3 7</td>\n",
       "      <td>0 3 4 4 7 7</td>\n",
       "      <td>&lt;|T|&gt; 4 4 7 0 3 7 &lt;|T|&gt; 4 4 0 7 3 7 &lt;|T|&gt; 4 0 ...</td>\n",
       "      <td>gnome</td>\n",
       "      <td>6</td>\n",
       "      <td>&lt;|Q|&gt; 4 4 7 0 3 7 &lt;|S|&gt; gnome &lt;|T|&gt; 4 4 7 0 3 ...</td>\n",
       "      <td>pretrain</td>\n",
       "    </tr>\n",
       "  </tbody>\n",
       "</table>\n",
       "</div>"
      ],
      "text/plain": [
       "      question       answer  \\\n",
       "0    3 0 7 6 6    0 3 6 6 7   \n",
       "1      2 3 8 0      0 2 3 8   \n",
       "2    2 5 7 7 1    1 2 5 7 7   \n",
       "3      4 4 5 0      0 4 4 5   \n",
       "4  4 4 7 0 3 7  0 3 4 4 7 7   \n",
       "\n",
       "                                            solution  algorithm  length  \\\n",
       "0    <|T|> 3 0 7 6 6 <|T|> 3 0 6 6 7 <|T|> 0 3 6 6 7      shell       5   \n",
       "1  <|T|> 2 3 8 0 <|T|> 2 2 8 0 <|T|> 2 2 3 0 <|T|...      cycle       4   \n",
       "2                    <|T|> 2 5 7 7 1 <|T|> 1 2 5 7 7  insertion       5   \n",
       "3                        <|T|> 4 4 5 0 <|T|> 0 4 4 5  insertion       4   \n",
       "4  <|T|> 4 4 7 0 3 7 <|T|> 4 4 0 7 3 7 <|T|> 4 0 ...      gnome       6   \n",
       "\n",
       "                                                text     split  \n",
       "0  <|Q|> 3 0 7 6 6 <|S|> shell <|T|> 3 0 7 6 6 <|...  pretrain  \n",
       "1  <|Q|> 2 3 8 0 <|S|> cycle <|T|> 2 3 8 0 <|T|> ...  pretrain  \n",
       "2  <|Q|> 2 5 7 7 1 <|S|> insertion <|T|> 2 5 7 7 ...  pretrain  \n",
       "3  <|Q|> 4 4 5 0 <|S|> insertion <|T|> 4 4 5 0 <|...  pretrain  \n",
       "4  <|Q|> 4 4 7 0 3 7 <|S|> gnome <|T|> 4 4 7 0 3 ...  pretrain  "
      ]
     },
     "execution_count": 28,
     "metadata": {},
     "output_type": "execute_result"
    }
   ],
   "source": [
    "final_df.head()"
   ]
  },
  {
   "cell_type": "code",
   "execution_count": null,
   "id": "d3512331",
   "metadata": {},
   "outputs": [
    {
     "data": {
      "application/vnd.jupyter.widget-view+json": {
       "model_id": "ddf448534b0844cc88c14ddf9c4e6b99",
       "version_major": 2,
       "version_minor": 0
      },
      "text/plain": [
       "Uploading the dataset shards:   0%|          | 0/1 [00:00<?, ?it/s]"
      ]
     },
     "metadata": {},
     "output_type": "display_data"
    },
    {
     "data": {
      "application/vnd.jupyter.widget-view+json": {
       "model_id": "9155bb5eb24c4988958ba61d691e1eae",
       "version_major": 2,
       "version_minor": 0
      },
      "text/plain": [
       "Creating parquet from Arrow format:   0%|          | 0/117 [00:00<?, ?ba/s]"
      ]
     },
     "metadata": {},
     "output_type": "display_data"
    },
    {
     "data": {
      "application/vnd.jupyter.widget-view+json": {
       "model_id": "df1b6b88dfe146b1a30b5135f8f17ba2",
       "version_major": 2,
       "version_minor": 0
      },
      "text/plain": [
       "Uploading the dataset shards:   0%|          | 0/1 [00:00<?, ?it/s]"
      ]
     },
     "metadata": {},
     "output_type": "display_data"
    },
    {
     "data": {
      "application/vnd.jupyter.widget-view+json": {
       "model_id": "9780b8501aa5493ab8507d712bd47c1c",
       "version_major": 2,
       "version_minor": 0
      },
      "text/plain": [
       "Creating parquet from Arrow format:   0%|          | 0/100 [00:00<?, ?ba/s]"
      ]
     },
     "metadata": {},
     "output_type": "display_data"
    },
    {
     "data": {
      "application/vnd.jupyter.widget-view+json": {
       "model_id": "01daee174df743a387f9e3c302975125",
       "version_major": 2,
       "version_minor": 0
      },
      "text/plain": [
       "Uploading the dataset shards:   0%|          | 0/1 [00:00<?, ?it/s]"
      ]
     },
     "metadata": {},
     "output_type": "display_data"
    },
    {
     "data": {
      "application/vnd.jupyter.widget-view+json": {
       "model_id": "719aa02f8e924aa6a0a0fc537c4a6a6c",
       "version_major": 2,
       "version_minor": 0
      },
      "text/plain": [
       "Creating parquet from Arrow format:   0%|          | 0/6 [00:00<?, ?ba/s]"
      ]
     },
     "metadata": {},
     "output_type": "display_data"
    },
    {
     "data": {
      "application/vnd.jupyter.widget-view+json": {
       "model_id": "433a13f87fa34a85bc616870804b2a39",
       "version_major": 2,
       "version_minor": 0
      },
      "text/plain": [
       "Uploading the dataset shards:   0%|          | 0/1 [00:00<?, ?it/s]"
      ]
     },
     "metadata": {},
     "output_type": "display_data"
    },
    {
     "data": {
      "application/vnd.jupyter.widget-view+json": {
       "model_id": "3d1713cf87e94f34a8f391d18933ee7f",
       "version_major": 2,
       "version_minor": 0
      },
      "text/plain": [
       "Creating parquet from Arrow format:   0%|          | 0/6 [00:00<?, ?ba/s]"
      ]
     },
     "metadata": {},
     "output_type": "display_data"
    },
    {
     "data": {
      "text/plain": [
       "CommitInfo(commit_url='https://huggingface.co/datasets/Pavankalyan/syn-reasoning/commit/1160202f288e07c50eb3b9be4bc8d61d76f6ebdc', commit_message='Upload dataset', commit_description='', oid='1160202f288e07c50eb3b9be4bc8d61d76f6ebdc', pr_url=None, repo_url=RepoUrl('https://huggingface.co/datasets/Pavankalyan/syn-reasoning', endpoint='https://huggingface.co', repo_type='dataset', repo_id='Pavankalyan/syn-reasoning'), pr_revision=None, pr_num=None)"
      ]
     },
     "execution_count": 29,
     "metadata": {},
     "output_type": "execute_result"
    }
   ],
   "source": [
    "from datasets import Dataset, DatasetDict\n",
    "\n",
    "# Group by \"split\" and create DatasetDict\n",
    "split_datasets = {\n",
    "    split: Dataset.from_pandas(sub_df.drop(columns=[\"split\"]))\n",
    "    for split, sub_df in final_df.groupby(\"split\")\n",
    "}\n",
    "\n",
    "dataset_dict = DatasetDict(split_datasets)\n",
    "\n",
    "# Push to Hugging Face Hub\n",
    "dataset_dict.push_to_hub(\"Pavankalyan/syn-reasoning\", token=\"\")\n"
   ]
  },
  {
   "cell_type": "code",
   "execution_count": 30,
   "id": "e38d84de",
   "metadata": {},
   "outputs": [
    {
     "data": {
      "text/plain": [
       "algorithm\n",
       "bubble       28614\n",
       "cycle        28700\n",
       "gnome        28611\n",
       "heap         28773\n",
       "insertion    28645\n",
       "quick        28468\n",
       "selection    28402\n",
       "shell        28667\n",
       "Name: count, dtype: int64"
      ]
     },
     "execution_count": 30,
     "metadata": {},
     "output_type": "execute_result"
    }
   ],
   "source": [
    "final_df['algorithm'].value_counts().sort_index()"
   ]
  },
  {
   "cell_type": "code",
   "execution_count": null,
   "id": "4104b345",
   "metadata": {},
   "outputs": [],
   "source": []
  }
 ],
 "metadata": {
  "kernelspec": {
   "display_name": "cl_env",
   "language": "python",
   "name": "python3"
  },
  "language_info": {
   "codemirror_mode": {
    "name": "ipython",
    "version": 3
   },
   "file_extension": ".py",
   "mimetype": "text/x-python",
   "name": "python",
   "nbconvert_exporter": "python",
   "pygments_lexer": "ipython3",
   "version": "3.12.8"
  }
 },
 "nbformat": 4,
 "nbformat_minor": 5
}
